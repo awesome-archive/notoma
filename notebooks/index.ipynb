{
 "cells": [
  {
   "cell_type": "markdown",
   "metadata": {},
   "source": [
    "# Notoma\n",
    "\n",
    "> Write articles for your static gen blog in Notion.\n",
    "\n"
   ]
  },
  {
   "cell_type": "markdown",
   "metadata": {},
   "source": [
    "%METADATA%\n",
    "nav_order: 1\n",
    "title: Home"
   ]
  },
  {
   "cell_type": "markdown",
   "metadata": {},
   "source": [
    "## Work on progress! \n",
    "\n",
    "This is a super early version of Notoma — and this document is half true and half fiction.\n"
   ]
  },
  {
   "cell_type": "markdown",
   "metadata": {},
   "source": [
    "## Install"
   ]
  },
  {
   "cell_type": "markdown",
   "metadata": {},
   "source": [
    "Notoma is available via Pip and Homebrew: "
   ]
  },
  {
   "cell_type": "markdown",
   "metadata": {},
   "source": [
    "```bash\n",
    "# Installing with pip, use this if you plan using Notoma as a python library.\n",
    "pip install notoma\n",
    "```"
   ]
  },
  {
   "cell_type": "markdown",
   "metadata": {},
   "source": [
    "```bash\n",
    "# Installing with brew\n",
    "# Use this if you just want the CLI tool\n",
    "brew install cask/xnutsive/notoma\n",
    "```"
   ]
  },
  {
   "cell_type": "markdown",
   "metadata": {},
   "source": [
    "## Basic Usage"
   ]
  },
  {
   "cell_type": "markdown",
   "metadata": {},
   "source": [
    "Notoma provides commands to: \n",
    "- Convert contents of your Notion Blog database to a bunch of Markdown files.\n",
    "- Watch Notion Blog database for updates and regenerate Markdown files on any updates.\n",
    "- Create a new Notion database for your Blog with all required fields."
   ]
  },
  {
   "cell_type": "markdown",
   "metadata": {},
   "source": [
    "Here's the basic usage example: \n",
    "\n",
    "```bash\n",
    "notoma convert --dest ./posts/\n",
    "```\n",
    "\n",
    "This example assumes that you have a `.env` config file with authentication and blog url parameters in it, this guide covers those later."
   ]
  },
  {
   "cell_type": "markdown",
   "metadata": {},
   "source": [
    "#### Authenticating in Notion\n",
    "\n",
    "Since Notion doesn't yet (May 2020) have a public API, Notoma requires your Notion cookie auth token that you can get from your browser.\n",
    "\n",
    "You can provide `token_v2` option to every command line call, or store it in your environment, or `.env` file."
   ]
  },
  {
   "cell_type": "markdown",
   "metadata": {},
   "source": [
    "#### Converting your Notion articles\n",
    "\n",
    "`notoma convert --help`"
   ]
  },
  {
   "cell_type": "code",
   "execution_count": null,
   "metadata": {},
   "outputs": [],
   "source": []
  }
 ],
 "metadata": {
  "kernelspec": {
   "display_name": "Python 3",
   "language": "python",
   "name": "python3"
  },
  "language_info": {
   "codemirror_mode": {
    "name": "ipython",
    "version": 3
   },
   "file_extension": ".py",
   "mimetype": "text/x-python",
   "name": "python",
   "nbconvert_exporter": "python",
   "pygments_lexer": "ipython3",
   "version": "3.7.7-final"
  }
 },
 "nbformat": 4,
 "nbformat_minor": 4
}