{
 "cells": [
  {
   "cell_type": "markdown",
   "metadata": {},
   "source": [
    "# Notoma\n",
    "\n",
    "> Use Notion to write articles for any blogging platform that works with Markdown. Pagify au\\tomatically exports your Notion pages into a bunch of `.md` files, available as a CLI tool, or a Python library.\n",
    "\n",
    "- layout: default\n",
    "- title: Basic Usage\n",
    "- key: value"
   ]
  },
  {
   "cell_type": "markdown",
   "metadata": {},
   "source": [
    "## Install"
   ]
  },
  {
   "cell_type": "markdown",
   "metadata": {},
   "source": [
    "`pip install notoma`"
   ]
  },
  {
   "cell_type": "markdown",
   "metadata": {},
   "source": [
    "## Basic Usage"
   ]
  },
  {
   "cell_type": "code",
   "execution_count": 5,
   "metadata": {},
   "outputs": [],
   "source": [
    "from notoma.core import *\n",
    "from nbdev.showdoc import *"
   ]
  },
  {
   "cell_type": "markdown",
   "metadata": {},
   "source": [
    "### Getting the Notion auth token"
   ]
  },
  {
   "cell_type": "markdown",
   "metadata": {},
   "source": [
    "Pagify uses [`notion-py`](https://github.com/jamalex/notion-py) to work with Notion's reverse engineered web api. It's not an official API, hence the unorthodox authentication techniques. \n",
    "\n",
    "`notion-py` wants an auth token, called `token_v2`, that you can get from a Cookie on notion.so."
   ]
  },
  {
   "cell_type": "markdown",
   "metadata": {},
   "source": [
    "### Using Pagify as a standalone app"
   ]
  },
  {
   "cell_type": "markdown",
   "metadata": {},
   "source": [
    "You can install Pagify and use it as a standalone utility:\n",
    "\n",
    "```bash\n",
    "pip install notoma\n",
    "\n",
    "notoma --token=TOKEN --db=URL --dest .\n",
    "\n",
    "```"
   ]
  },
  {
   "cell_type": "markdown",
   "metadata": {},
   "source": [
    "### Using from your python code"
   ]
  },
  {
   "cell_type": "code",
   "execution_count": 2,
   "metadata": {},
   "outputs": [
    {
     "data": {
      "text/markdown": [
       "<h4 id=\"notion2md\" class=\"doc_header\"><code>notion2md</code><a href=\"https://github.com/xnutsive/notoma/tree/master/notoma/core.py#L138\" class=\"source_link\" style=\"float:right\">[source]</a></h4>\n",
       "\n",
       "> <code>notion2md</code>(**`token_v2`**:`str`, **`database_url`**:`str`, **`dest`**:`Union`\\[`str`, `Path`\\])\n",
       "\n",
       "Grab Notion Blog database using auth token `token_v2`,\n",
       "convert posts in database `database_url` to Markdown, and save them to `dest`."
      ],
      "text/plain": [
       "<IPython.core.display.Markdown object>"
      ]
     },
     "metadata": {},
     "output_type": "display_data"
    }
   ],
   "source": [
    "show_doc(notion2md)"
   ]
  }
 ],
 "metadata": {
  "kernelspec": {
   "display_name": "Python 3",
   "language": "python",
   "name": "python3"
  },
  "language_info": {
   "codemirror_mode": {
    "name": "ipython",
    "version": 3
   },
   "file_extension": ".py",
   "mimetype": "text/x-python",
   "name": "python",
   "nbconvert_exporter": "python",
   "pygments_lexer": "ipython3",
   "version": "3.7.7"
  }
 },
 "nbformat": 4,
 "nbformat_minor": 4
}
