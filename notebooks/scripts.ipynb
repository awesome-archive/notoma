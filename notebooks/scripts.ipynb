{
 "cells": [
  {
   "cell_type": "code",
   "execution_count": 11,
   "metadata": {},
   "outputs": [],
   "source": [
    "#default_exp scripts"
   ]
  },
  {
   "cell_type": "markdown",
   "metadata": {},
   "source": [
    "# Dev tools\n",
    "\n",
    "- Summary: Handy dev tools for Notoma.\n",
    "- layout: default\n",
    "- title: Dev Tools"
   ]
  },
  {
   "cell_type": "markdown",
   "metadata": {},
   "source": [
    "Notoma is built using `nbdev` — meaning I write code and documentation as Jupyter notebooks and then extract the code I need into the library, package and push it to pypi, generate the docs automatically, and use the notebooks as tests. \n",
    "\n",
    "The problem though is that `nbdev` is very opinionated about how specifically I have to run tests and how what Jekyll theme my docs website has to use. Notoma provides a few small CLI tools to work around some of the assumtions `nbdev` makes and make the workflow a bit more generic."
   ]
  },
  {
   "cell_type": "code",
   "execution_count": 12,
   "metadata": {},
   "outputs": [],
   "source": [
    "#exports\n",
    "\n",
    "import click\n",
    "from pathlib import Path\n",
    "from nbdev.export import notebook2script\n",
    "from nbdev.export2html import convert_md\n",
    "from nbdev.imports import parallel, Config\n"
   ]
  },
  {
   "cell_type": "markdown",
   "metadata": {},
   "source": [
    "This module provides a CLI tool `notoma-dev` that will be available when you install notoma using pip."
   ]
  },
  {
   "cell_type": "code",
   "execution_count": 13,
   "metadata": {},
   "outputs": [],
   "source": [
    "#export\n",
    "@click.command()\n",
    "def build_docs():\n",
    "    \"\"\"Build documentation as a bunch of .md files in ./docs/\"\"\"\n",
    "    \n",
    "    nbs = [f for f in Config().nbs_path.glob('*.ipynb') if not f.name.startswith('_')]\n",
    "    #docs = [ Path(f\"{Config().doc_path}/{nb}\").stem + '.md' for nb in nbs]\n",
    "    \n",
    "    dest = Config().doc_path\n",
    "    \n",
    "    for fname in nbs:\n",
    "        print(f\"Converting {fname}\")\n",
    "        convert_md(fname, dest)\n",
    "\n",
    "\n",
    "    # notebook2html(cls=MarkdownExporter, template_file='markdown.tpl', force_all=True)"
   ]
  },
  {
   "cell_type": "code",
   "execution_count": 14,
   "metadata": {},
   "outputs": [],
   "source": [
    "#export\n",
    "@click.command()\n",
    "def build():\n",
    "    \"\"\"Rebuild python lib from notebooks using nbdev.\"\"\"\n",
    "    notebook2script()"
   ]
  },
  {
   "cell_type": "code",
   "execution_count": 15,
   "metadata": {},
   "outputs": [],
   "source": [
    "#export\n",
    "@click.group()\n",
    "def cli():\n",
    "    \"\"\"Notoma dev tools.\"\"\"\n",
    "    pass"
   ]
  },
  {
   "cell_type": "code",
   "execution_count": 16,
   "metadata": {},
   "outputs": [],
   "source": [
    "#export\n",
    "cli.add_command(build_docs)\n",
    "cli.add_command(build)"
   ]
  },
  {
   "cell_type": "code",
   "execution_count": 17,
   "metadata": {},
   "outputs": [
    {
     "name": "stdout",
     "output_type": "stream",
     "text": [
      "Converted 00_core.ipynb.\n",
      "Converted 01_dev_scripts.ipynb.\n",
      "Converted index.ipynb.\n"
     ]
    }
   ],
   "source": [
    "notebook2script()"
   ]
  },
  {
   "cell_type": "code",
   "execution_count": 19,
   "metadata": {},
   "outputs": [],
   "source": [
    "convert_md??"
   ]
  },
  {
   "cell_type": "code",
   "execution_count": null,
   "metadata": {},
   "outputs": [],
   "source": []
  }
 ],
 "metadata": {
  "kernelspec": {
   "display_name": "Python 3",
   "language": "python",
   "name": "python3"
  },
  "language_info": {
   "codemirror_mode": {
    "name": "ipython",
    "version": 3
   },
   "file_extension": ".py",
   "mimetype": "text/x-python",
   "name": "python",
   "nbconvert_exporter": "python",
   "pygments_lexer": "ipython3",
   "version": "3.7.7"
  }
 },
 "nbformat": 4,
 "nbformat_minor": 4
}
