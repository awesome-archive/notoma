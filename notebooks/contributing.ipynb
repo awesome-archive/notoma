{
 "cells": [
  {
   "cell_type": "markdown",
   "metadata": {},
   "source": [
    "# Contributing\n",
    "\n",
    "Contributions are very welcome — please do ask questions and suggest ideas in Issues, and feel free to implement features you want and submit them via Pull Requests."
   ]
  },
  {
   "cell_type": "markdown",
   "metadata": {},
   "source": [
    "%METADATA%\n",
    "nav_order: 2\n",
    "title: Contributing\n",
    "\n"
   ]
  },
  {
   "cell_type": "markdown",
   "metadata": {},
   "source": [
    "### Reporting issues\n",
    "\n",
    "Please feel free to file a Github Issue if you found a behavior that you feel is weird or counterintuitive, bad UX, or any errors or bugs."
   ]
  },
  {
   "cell_type": "markdown",
   "metadata": {},
   "source": [
    "---\n",
    "### Pull Requests\n",
    "\n",
    "Thank you for considering writing some code for Notoma! This part describes the easiest way to get up to speed with Notoma development, and how to create a pull request.\n",
    "\n",
    "Here's the steps you'd need to do in order to get your code merged:\n",
    "\n",
    "1. Fork the repository\n",
    "2. Development install with linters: `make contrib`\n",
    "3. Make sure you regenerate documentation for anything you change: `pipenv run notoma-dev docs`\n",
    "4. Commit to your fork branch and then do a PR."
   ]
  },
  {
   "cell_type": "markdown",
   "metadata": {},
   "source": [
    "#### Local dev setup\n",
    "\n",
    "```bash\n",
    "git clone git@github.com:xnutsive/notoma.git\n",
    "hub fork #or whatever\n",
    "\n",
    "make contrib #will install dev dependencies and setup local pre-commit linters.\n",
    "```"
   ]
  },
  {
   "cell_type": "markdown",
   "metadata": {},
   "source": [
    "#### Linters\n",
    "\n",
    "- [`black`](https://github.com/psf/black) for code formatting\n",
    "- [`flake8`](https://gitlab.com/pycqa/flake8) for linting\n",
    "- [Code Climate](https://codeclimate.com/github/xnutsive/notoma) for code quality.\n",
    "\n",
    "Linters are run automatically on each commit to any branch, and on pull requests as well.\n"
   ]
  },
  {
   "cell_type": "markdown",
   "metadata": {},
   "source": [
    "#### Updating documentation\n",
    "\n",
    "[Documentation website](https://xnutsive.github.io/notoma/) and all of it's docs is just a Jekyll site, located in [`./docs/`](https://github.com/xnutsive/notoma/tree/master/docs). The markdown files in there are automatically generated from Jupyter Notebooks in `./notebooks` in this repo.\n",
    "\n",
    "Please edit the notebooks, not the markdown files directly, and please include proposed documentation changes with your pull requests.\n",
    "\n"
   ]
  }
 ],
 "metadata": {
  "kernelspec": {
   "display_name": "Python 3",
   "language": "python",
   "name": "python3"
  },
  "language_info": {
   "codemirror_mode": {
    "name": "ipython",
    "version": 3
   },
   "file_extension": ".py",
   "mimetype": "text/x-python",
   "name": "python",
   "nbconvert_exporter": "python",
   "pygments_lexer": "ipython3",
   "version": "3.7.7"
  }
 },
 "nbformat": 4,
 "nbformat_minor": 2
}
