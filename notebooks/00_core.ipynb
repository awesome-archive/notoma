{
 "cells": [
  {
   "cell_type": "code",
   "execution_count": 4,
   "metadata": {},
   "outputs": [],
   "source": [
    "# default_exp core"
   ]
  },
  {
   "cell_type": "markdown",
   "metadata": {},
   "source": [
    "# Notoma\n",
    "\n",
    "> Write articles for any static gen blog, in Notion."
   ]
  },
  {
   "cell_type": "code",
   "execution_count": 5,
   "metadata": {},
   "outputs": [],
   "source": [
    "#hide\n",
    "from nbdev.showdoc import *"
   ]
  },
  {
   "cell_type": "markdown",
   "metadata": {},
   "source": [
    "Notoma is a small tool that works with your Notion database and allows you to turn your Notion pages into a blog, or a website — with any static gen website engine and hosting platform you want.\n",
    "\n",
    "Notoma is available as a stand alone CLI app, and a Python library. You can use it locally to prepare and preview your articles and commit them, or as a part of your remote build pipeline."
   ]
  },
  {
   "cell_type": "markdown",
   "metadata": {},
   "source": [
    "## Imports and dependencies"
   ]
  },
  {
   "cell_type": "code",
   "execution_count": 15,
   "metadata": {},
   "outputs": [],
   "source": [
    "#export\n",
    "from typing import List, Dict, Union\n",
    "from notion.client import NotionClient\n",
    "from notion.collection import *\n",
    "from notion.block import *\n",
    "from pathlib import Path\n",
    "from dotenv import load_dotenv, find_dotenv"
   ]
  },
  {
   "cell_type": "markdown",
   "metadata": {},
   "source": [
    "## Config\n",
    "\n",
    "Where will we store configuration, including sensitive data like auth tokens, and blog db name?"
   ]
  },
  {
   "cell_type": "code",
   "execution_count": 65,
   "metadata": {},
   "outputs": [],
   "source": [
    "#exports\n",
    "class Config:\n",
    "    \"\"\"\n",
    "    Wraps Notoma's settings in an object with easier access.\n",
    "    Settings are loaded from `.env` file, and from the system environment.\n",
    "    You can override them by providing kwargs when creating an instance of a config.\n",
    "\n",
    "    `.env` keys are explicit and long, i.e. `NOTOMA_NOTION_TOKEN_V2`. `kwargs` key responsible for the token is just\n",
    "    `token_v2`.\n",
    "    \"\"\"\n",
    "\n",
    "    def __init__(self, **kwargs):\n",
    "        \"\"\"\n",
    "        Loads config from a `.env` file or system environment.\n",
    "\n",
    "        You can provide any kwargs you want and they would override environment config values.\n",
    "        \"\"\"\n",
    "        load_dotenv(find_dotenv())\n",
    "        self.__config = dict(token_v2 = os.environ.get('NOTOMA_NOTION_TOKEN_V2'),\n",
    "                               blog_url = os.environ.get('NOTOMA_NOTION_BLOG_URL'))\n",
    "\n",
    "        for k, v in kwargs.items():\n",
    "            self.__config[k] = v\n",
    "\n",
    "    @property\n",
    "    def token_v2(self):\n",
    "        return self.__config['token_v2']\n",
    "\n",
    "    @property\n",
    "    def blog_url(self):\n",
    "        return self.__config['blog_url']\n",
    "\n",
    "    def __getitem__(self, key):\n",
    "        return self.__config[key]\n",
    "\n",
    "    def __repr__(self):\n",
    "        return '\\n'.join(f'{k}: {v}' for k, v in self.__config.items())"
   ]
  },
  {
   "cell_type": "code",
   "execution_count": 48,
   "metadata": {},
   "outputs": [
    {
     "data": {
      "text/markdown": [
       "<h2 id=\"Config\" class=\"doc_header\"><code>class</code> <code>Config</code><a href=\"\" class=\"source_link\" style=\"float:right\">[source]</a></h2>\n",
       "\n",
       "> <code>Config</code>(**\\*\\*`kwargs`**)\n",
       "\n",
       "Wraps Notoma's settings in an object with easier access.\n",
       "Settings are loaded from `.env` file, and from the system environment. \n",
       "You can override them by providing kwargs when creating an instance of a config.\n",
       "\n",
       "`.env` keys are explicit and long, i.e. `NOTOMA_NOTION_TOKEN_V2`. `kwargs` key responsible for the token is just\n",
       "`token_v2`."
      ],
      "text/plain": [
       "<IPython.core.display.Markdown object>"
      ]
     },
     "metadata": {},
     "output_type": "display_data"
    }
   ],
   "source": [
    "show_doc(Config)"
   ]
  },
  {
   "cell_type": "code",
   "execution_count": 66,
   "metadata": {},
   "outputs": [],
   "source": [
    "config = Config()"
   ]
  },
  {
   "cell_type": "markdown",
   "metadata": {},
   "source": [
    "## Notion Client\n",
    "\n",
    "Provides a thin wrapper around `notion-py` — an API wrapper library for the reverse-engineered Notion API. Pagify users that client to grab the blog contents from Notion.\n",
    "\n",
    "The client utilizes authentication token from Notion's web version, `token_v2`, that you can grab from your browers cookies. \n",
    "\n",
    "> Notice: This token authorizes any code to do anything that you can do in the browser in Notion on your behalf, so don't share it publicly, and don't store it your code or git."
   ]
  },
  {
   "cell_type": "code",
   "execution_count": 49,
   "metadata": {},
   "outputs": [],
   "source": [
    "#exports\n",
    "def notion_client(token_v2:str) -> NotionClient:\n",
    "    client = NotionClient(token_v2=config.token_v2)\n",
    "    return client"
   ]
  },
  {
   "cell_type": "code",
   "execution_count": 50,
   "metadata": {},
   "outputs": [
    {
     "data": {
      "text/markdown": [
       "<h4 id=\"notion_client\" class=\"doc_header\"><code>notion_client</code><a href=\"__main__.py#L2\" class=\"source_link\" style=\"float:right\">[source]</a></h4>\n",
       "\n",
       "> <code>notion_client</code>(**`token_v2`**:`str`)\n",
       "\n"
      ],
      "text/plain": [
       "<IPython.core.display.Markdown object>"
      ]
     },
     "metadata": {},
     "output_type": "display_data"
    }
   ],
   "source": [
    "show_doc(notion_client)"
   ]
  },
  {
   "cell_type": "code",
   "execution_count": 53,
   "metadata": {},
   "outputs": [],
   "source": [
    "client = notion_client(config.token_v2)"
   ]
  },
  {
   "cell_type": "markdown",
   "metadata": {},
   "source": [
    "## Blog Database\n",
    "\n",
    "Build a helper that would take the client, search for the provided DB name, and return it, or error out if notfound.\n",
    "\n",
    "Build a function that returns an iterator over all the pages in that database."
   ]
  },
  {
   "cell_type": "code",
   "execution_count": 54,
   "metadata": {},
   "outputs": [],
   "source": [
    "#exports\n",
    "def notion_blog_database(client: NotionClient, db_url:str) -> Collection:\n",
    "    \"\"\"Returns a Notion database, wraped into a `notion.Collection` for easy access to it's rows.\"\"\"\n",
    "    return client.get_collection_view(db_url).collection"
   ]
  },
  {
   "cell_type": "code",
   "execution_count": 55,
   "metadata": {},
   "outputs": [
    {
     "data": {
      "text/markdown": [
       "<h4 id=\"notion_blog_database\" class=\"doc_header\"><code>notion_blog_database</code><a href=\"__main__.py#L2\" class=\"source_link\" style=\"float:right\">[source]</a></h4>\n",
       "\n",
       "> <code>notion_blog_database</code>(**`client`**:`NotionClient`, **`db_url`**:`str`)\n",
       "\n",
       "Returns a Notion database, wraped into a `notion.Collection` for easy access to it's rows."
      ],
      "text/plain": [
       "<IPython.core.display.Markdown object>"
      ]
     },
     "metadata": {},
     "output_type": "display_data"
    }
   ],
   "source": [
    "show_doc(notion_blog_database)"
   ]
  },
  {
   "cell_type": "code",
   "execution_count": 56,
   "metadata": {},
   "outputs": [],
   "source": [
    "blog = notion_blog_database(client, config.blog_url)"
   ]
  },
  {
   "cell_type": "markdown",
   "metadata": {},
   "source": [
    "## Page Structure\n",
    "\n",
    "Build a class or a function that takes the notion page object (from the iterator) and can return the metadata values, and iterate over it's contents."
   ]
  },
  {
   "cell_type": "markdown",
   "metadata": {},
   "source": [
    "`Page` is a record in the Blog database. Here's the format that Pagify expects: \n",
    "\n",
    "- Page title will be converted to the .md file name. File name will be formatted with dashes instead of spaces, and the page udpated at date will be uppended in YYYY-MM-DD format.\n",
    "\n",
    "- Published: an optional boolean field. If present, Pagify will ignore pages where published: false. \n",
    "\n",
    "- Description: if the Page text starts with a word Desciption, then the whole first paragraph is considered description, and will be added to the markdown file front matter (metadata). \n",
    "\n",
    "- Publish at: a datetime field, if present, will be used as published at front matter key in the md file.\n",
    "\n"
   ]
  },
  {
   "cell_type": "code",
   "execution_count": 59,
   "metadata": {},
   "outputs": [],
   "source": [
    "page = blog.get_rows()[0]"
   ]
  },
  {
   "cell_type": "code",
   "execution_count": 60,
   "metadata": {},
   "outputs": [
    {
     "data": {
      "text/plain": [
       "'Notoma First Article'"
      ]
     },
     "execution_count": 60,
     "metadata": {},
     "output_type": "execute_result"
    }
   ],
   "source": [
    "page.title"
   ]
  },
  {
   "cell_type": "markdown",
   "metadata": {},
   "source": [
    "## Converting Page to Markdown\n",
    "\n",
    "Build a quick conversion of a Notion page to a .md file"
   ]
  },
  {
   "cell_type": "code",
   "execution_count": 61,
   "metadata": {},
   "outputs": [],
   "source": [
    "#export\n",
    "def block2md(block:Block, counter:int = 1) -> str:\n",
    "    \"\"\"Transforms a Notion Block into a Markdown string.\"\"\"\n",
    "\n",
    "    if isinstance(block, TextBlock):\n",
    "        return block.title\n",
    "\n",
    "    elif isinstance(block, HeaderBlock):\n",
    "        return f\"# {block.title}\"\n",
    "\n",
    "    elif isinstance(block, SubheaderBlock):\n",
    "        return f\"## {block.title}\"\n",
    "\n",
    "    elif isinstance(block, SubsubheaderBlock):\n",
    "        return f\"### {block.title}\"\n",
    "\n",
    "    elif isinstance(block, QuoteBlock):\n",
    "        return f\"> {block.title}\"\n",
    "\n",
    "    elif isinstance(block, BulletedListBlock):\n",
    "        return f\"- {block.title}\"\n",
    "\n",
    "    elif isinstance(block, NumberedListBlock):\n",
    "        return f\"{counter}. {block.title}\"\n",
    "\n",
    "    elif isinstance(block, CodeBlock):\n",
    "        return f\"\"\"\n",
    "```{block.language}\n",
    "{block.title}\n",
    "```\n",
    "\"\"\"\n",
    "\n",
    "    elif isinstance(block, CalloutBlock):\n",
    "        return f\"> {block.icon} {block.title}\"\n",
    "\n",
    "    elif isinstance(block, DividerBlock):\n",
    "        return \"\\n\"\n",
    "    else:\n",
    "        return \"\""
   ]
  },
  {
   "cell_type": "code",
   "execution_count": 62,
   "metadata": {},
   "outputs": [],
   "source": [
    "#export\n",
    "def page2md(page:PageBlock) -> str:\n",
    "    \"\"\"Translates a Notion Page (`PageBlock`) into a Markdown string.\"\"\"\n",
    "    blocks = list()\n",
    "\n",
    "    # Numbered lists iterator\n",
    "    counter = 1\n",
    "\n",
    "    for block in page.children:\n",
    "        blocks.append(block2md(block, counter))\n",
    "\n",
    "        if isinstance(block, NumberedListBlock):\n",
    "            counter += 1\n",
    "        else:\n",
    "            counter = 1\n",
    "\n",
    "    return page_front_matter(page) + \"\\n\".join(blocks)"
   ]
  },
  {
   "cell_type": "code",
   "execution_count": 63,
   "metadata": {},
   "outputs": [],
   "source": [
    "#export\n",
    "def page2path(page:PageBlock, dest_dir:Path=Path(\".\")) -> Path:\n",
    "    \"\"\"Build a .md file path in `dest_dir` based on a Notion page metadata.\"\"\"\n",
    "    return dest_dir/Path(\"-\".join(page.title.lower().replace(\".\", \"\").split(\" \"))+ \".md\")"
   ]
  },
  {
   "cell_type": "code",
   "execution_count": 64,
   "metadata": {},
   "outputs": [],
   "source": [
    "#export\n",
    "def page_front_matter(page: PageBlock) -> str:\n",
    "    \"\"\"Builds a page front matter in a yaml-like format.\"\"\"\n",
    "    internals = ['published', 'title']\n",
    "    renderables = { k:v for k,v in page.get_all_properties().items() if k not in internals }\n",
    "\n",
    "    return f\"\"\"\n",
    "---\n",
    "{yaml.dump(renderables)}\n",
    "---\\n\n",
    "\"\"\""
   ]
  },
  {
   "cell_type": "markdown",
   "metadata": {},
   "source": [
    "## Converting multiple pages\n"
   ]
  },
  {
   "cell_type": "code",
   "execution_count": 20,
   "metadata": {},
   "outputs": [],
   "source": [
    "#exports\n",
    "def notion2md(token_v2:str, database_url:str, dest:Union[str, Path]) -> None:\n",
    "    \"\"\"\n",
    "    Grab Notion Blog database using auth token `token_v2`,\n",
    "    convert posts in database `database_url` to Markdown, and save them to `dest`.\n",
    "    \"\"\"\n",
    "\n",
    "    client = notion_client(token_v2)\n",
    "\n",
    "    database = notion_blog_database(client, database_url)\n",
    "\n",
    "    for post in database.get_rows():\n",
    "        page2path(page, dest_dir=dest).write_text(page2md(page))"
   ]
  },
  {
   "cell_type": "code",
   "execution_count": null,
   "metadata": {},
   "outputs": [],
   "source": []
  }
 ],
 "metadata": {
  "kernelspec": {
   "display_name": "Python 3",
   "language": "python",
   "name": "python3"
  },
  "language_info": {
   "codemirror_mode": {
    "name": "ipython",
    "version": 3
   },
   "file_extension": ".py",
   "mimetype": "text/x-python",
   "name": "python",
   "nbconvert_exporter": "python",
   "pygments_lexer": "ipython3",
   "version": "3.7.7"
  }
 },
 "nbformat": 4,
 "nbformat_minor": 4
}
