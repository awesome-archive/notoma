{
 "cells": [
  {
   "cell_type": "markdown",
   "metadata": {},
   "source": [
    "# Using the CLI\n",
    "\n",
    "Getting started with the CLI tool. This notebook also moonlights as an integration test, as actually runs the example commands."
   ]
  },
  {
   "cell_type": "markdown",
   "metadata": {},
   "source": [
    "%METADATA%\n",
    "layout: default\n",
    "nav_order: 2\n",
    "title: Using the CLI"
   ]
  },
  {
   "cell_type": "code",
   "execution_count": 1,
   "metadata": {
    "execution": {
     "iopub.execute_input": "2020-05-28T03:51:10.242372Z",
     "iopub.status.busy": "2020-05-28T03:51:10.241521Z",
     "iopub.status.idle": "2020-05-28T03:51:11.057963Z",
     "shell.execute_reply": "2020-05-28T03:51:11.058672Z"
    }
   },
   "outputs": [
    {
     "name": "stdout",
     "output_type": "stream",
     "text": [
      "Usage: notoma [OPTIONS] COMMAND [ARGS]...\r\n",
      "\r\n",
      "  Build your staticg gen blog with Notion. Notoma converts Notion database\r\n",
      "  of blog posts into a directory of .md files.\r\n",
      "\r\n",
      "Options:\r\n",
      "  --help  Show this message and exit.\r\n",
      "\r\n",
      "Commands:\r\n",
      "  convert  Convert Notion Blog to Markdown files.\r\n",
      "  new      Create a new Notion Blog\r\n",
      "  version  Print Notoma version.\r\n",
      "  watch    Watch for updates in the Notion Blog and update the Markdown...\r\n"
     ]
    }
   ],
   "source": [
    "!notoma --help"
   ]
  },
  {
   "cell_type": "markdown",
   "metadata": {},
   "source": [
    "## Convert\n",
    "\n",
    "Converts the Notion blog database to a bunch of markdown files in a specified directory."
   ]
  },
  {
   "cell_type": "code",
   "execution_count": 2,
   "metadata": {
    "execution": {
     "iopub.execute_input": "2020-05-28T03:51:11.065030Z",
     "iopub.status.busy": "2020-05-28T03:51:11.064182Z",
     "iopub.status.idle": "2020-05-28T03:51:11.827567Z",
     "shell.execute_reply": "2020-05-28T03:51:11.828431Z"
    }
   },
   "outputs": [
    {
     "name": "stdout",
     "output_type": "stream",
     "text": [
      "Usage: notoma convert [OPTIONS]\r\n",
      "\r\n",
      "  Convert Notion Blog to Markdown files.\r\n",
      "\r\n",
      "Options:\r\n",
      "  -f, --from TEXT      Notion blog URL\r\n",
      "  -d, --dest PATH      Directory to put posts into.  [required]\r\n",
      "  --drafts PATH        Directory for draft posts. Drafts won't be imported if\r\n",
      "                       this is left blank.\r\n",
      "\r\n",
      "  -t, --token_v2 TEXT  Notion auth token from the cookie.\r\n",
      "  --verbose            Verbose output.\r\n",
      "  --debug              Enable debug output.\r\n",
      "  --help               Show this message and exit.\r\n"
     ]
    }
   ],
   "source": [
    "!notoma convert --help"
   ]
  },
  {
   "cell_type": "markdown",
   "metadata": {},
   "source": [
    "Despite `--from` and `--token_v2` options are not requreired in the CI help output, you must provide them in the command line, or in the `.env` config file.\n",
    "\n",
    "If you try running `notoma convert` without providing them, notoma will fail with an error message asking for these options. "
   ]
  },
  {
   "cell_type": "markdown",
   "metadata": {},
   "source": [
    "## Watch\n",
    "\n",
    "Not available yet."
   ]
  },
  {
   "cell_type": "markdown",
   "metadata": {},
   "source": [
    "## Create\n",
    "\n",
    "Not available yet."
   ]
  }
 ],
 "metadata": {
  "kernelspec": {
   "display_name": "Python 3",
   "language": "python",
   "name": "python3"
  },
  "language_info": {
   "codemirror_mode": {
    "name": "ipython",
    "version": 3
   },
   "file_extension": ".py",
   "mimetype": "text/x-python",
   "name": "python",
   "nbconvert_exporter": "python",
   "pygments_lexer": "ipython3",
   "version": "3.7.7"
  }
 },
 "nbformat": 4,
 "nbformat_minor": 4
}
