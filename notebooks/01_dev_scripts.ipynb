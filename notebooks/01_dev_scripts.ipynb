{
 "cells": [
  {
   "cell_type": "code",
   "execution_count": 60,
   "metadata": {},
   "outputs": [],
   "source": [
    "#default_exp dev_scripts"
   ]
  },
  {
   "cell_type": "markdown",
   "metadata": {},
   "source": [
    "# Dev tools\n",
    "\n",
    "Small scripts I use to work on Notoma."
   ]
  },
  {
   "cell_type": "markdown",
   "metadata": {},
   "source": [
    "Notoma is built using `nbdev` — meaning I write code and documentation as Jupyter notebooks and then extract the code I need into the library, package and push it to pypi, generate the docs automatically, and use the notebooks as tests. \n",
    "\n",
    "The problem though is that `nbdev` is very opinionated about how specifically I have to run tests and how what Jekyll theme my docs website has to use. Notoma provides a few small CLI tools to work around some of the assumtions `nbdev` makes and make the workflow a bit more generic."
   ]
  },
  {
   "cell_type": "code",
   "execution_count": 61,
   "metadata": {},
   "outputs": [],
   "source": [
    "#exports\n",
    "import click\n",
    "from nbdev.export import notebook2script\n",
    "from nbdev.export2html import notebook2html"
   ]
  },
  {
   "cell_type": "markdown",
   "metadata": {},
   "source": [
    "This module provides a CLI tool `notoma-dev` that will be available when you install notoma using pip."
   ]
  },
  {
   "cell_type": "code",
   "execution_count": 62,
   "metadata": {},
   "outputs": [],
   "source": [
    "#exports\n",
    "@click.command()\n",
    "def build_docs():\n",
    "    \"\"\"Build documentation as a bunch of .md files in ./docs/\"\"\"\n",
    "    notebook2html()"
   ]
  },
  {
   "cell_type": "code",
   "execution_count": 63,
   "metadata": {},
   "outputs": [],
   "source": [
    "#exports\n",
    "@click.command()\n",
    "def build():\n",
    "    \"\"\"Rebuild python lib from notebooks using nbdev.\"\"\"\n",
    "    notebook2script()"
   ]
  },
  {
   "cell_type": "code",
   "execution_count": 64,
   "metadata": {},
   "outputs": [],
   "source": [
    "#exports\n",
    "@click.group()\n",
    "def cli():\n",
    "    \"\"\"Notoma dev tools.\"\"\"\n",
    "    pass"
   ]
  },
  {
   "cell_type": "code",
   "execution_count": 65,
   "metadata": {},
   "outputs": [],
   "source": [
    "#exports\n",
    "cli.add_command(build_docs)\n",
    "cli.add_command(build)"
   ]
  },
  {
   "cell_type": "code",
   "execution_count": 66,
   "metadata": {
    "scrolled": true
   },
   "outputs": [
    {
     "name": "stdout",
     "output_type": "stream",
     "text": [
      "Converted 00_core.ipynb.\n",
      "Converted 01_dev_scripts.ipynb.\n",
      "Converted index.ipynb.\n"
     ]
    }
   ],
   "source": [
    "notebook2script()"
   ]
  },
  {
   "cell_type": "code",
   "execution_count": 67,
   "metadata": {
    "scrolled": true
   },
   "outputs": [
    {
     "name": "stdout",
     "output_type": "stream",
     "text": [
      "converting: /Users/xnutsive/code/notoma/notebooks/01_dev_scripts.ipynb\n",
      "converting: /Users/xnutsive/code/notoma/notebooks/00_core.ipynb\n"
     ]
    }
   ],
   "source": [
    "notebook2html()"
   ]
  },
  {
   "cell_type": "code",
   "execution_count": null,
   "metadata": {},
   "outputs": [],
   "source": []
  }
 ],
 "metadata": {
  "kernelspec": {
   "display_name": "Python 3",
   "language": "python",
   "name": "python3"
  },
  "language_info": {
   "codemirror_mode": {
    "name": "ipython",
    "version": 3
   },
   "file_extension": ".py",
   "mimetype": "text/x-python",
   "name": "python",
   "nbconvert_exporter": "python",
   "pygments_lexer": "ipython3",
   "version": "3.7.7"
  }
 },
 "nbformat": 4,
 "nbformat_minor": 4
}
